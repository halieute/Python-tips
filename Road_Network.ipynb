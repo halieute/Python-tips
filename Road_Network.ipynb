{
 "cells": [
  {
   "cell_type": "markdown",
   "id": "5319fe43",
   "metadata": {},
   "source": [
    "## Road Network by Location"
   ]
  },
  {
   "cell_type": "markdown",
   "id": "81eb704f",
   "metadata": {},
   "source": [
    "[![Open In Colab](https://colab.research.google.com/assets/colab-badge.svg)](https://colab.research.google.com/github/halieute/Python-tips/blob/main/Road_Network.ipynb) "
   ]
  },
  {
   "cell_type": "markdown",
   "id": "feeb9d7b",
   "metadata": {},
   "source": [
    "## Install OSMnx if missing"
   ]
  },
  {
   "cell_type": "code",
   "execution_count": null,
   "id": "5f67b1da",
   "metadata": {},
   "outputs": [],
   "source": [
    "!pip install osmnx  "
   ]
  },
  {
   "cell_type": "code",
   "execution_count": null,
   "id": "0",
   "metadata": {},
   "outputs": [],
   "source": [
    "# Import necessary tools\n",
    "import osmnx as ox  # Map data helper\n",
    "import matplotlib.pyplot as plt  # Drawing tool\n",
    "import matplotlib.patches as mpatches  # For legend boxes\n",
    "import geopandas as gpd  # Map data organizer\n",
    "\n",
    "# 🏙 Choose Your City (Try changing this!)\n",
    "place = \"Niamey,Niger\"  # Format: \"City,Country\"\n",
    "\n",
    "# 📡 Download Road Data\n",
    "print(\"Downloading map data...\")  # Show progress\n",
    "G = ox.graph_from_place(place, network_type=\"drive\")  # Get roads\n",
    "roads = ox.graph_to_gdfs(G, nodes=False, edges=True)  # Organize data\n",
    "\n",
    "# 🎨 Create Color Guide\n",
    "road_colors = {\n",
    "    \"primary\": \"#FFD93D\",  # Yellow - Main roads\n",
    "    \"secondary\": \"#8AC926\",  # Green - Medium roads\n",
    "    \"tertiary\": \"#1982C4\",  # Blue - Smaller roads\n",
    "    \"residential\": \"#6A4C93\",  # Purple - Neighborhood streets\n",
    "    \"unclassified\": \"#CCCCCC\",  # Grey - Unknown roads\n",
    "    \"service\": \"#999999\",  # Light grey - Alleys/driveways\n",
    "    \"default\": \"#444444\",  # Dark grey - Backup color\n",
    "}\n",
    "\n",
    "\n",
    "# 🖌 Color the Roads\n",
    "def color_picker(road_type):\n",
    "    \"\"\"Match road types to colors like a paint-by-numbers guide\"\"\"\n",
    "    if isinstance(road_type, list):  # Handle multiple types\n",
    "        road_type = road_type[0]\n",
    "    return road_colors.get(road_type, road_colors[\"default\"])\n",
    "\n",
    "\n",
    "roads[\"color\"] = roads[\"highway\"].apply(color_picker)\n",
    "\n",
    "# 🖼 Create the Painting\n",
    "plt.figure(figsize=(12, 12), facecolor=\"black\")  # Black canvas\n",
    "ax = plt.gca()  # Get painting tools\n",
    "roads.plot(ax=ax, color=roads[\"color\"], linewidth=0.8)  # Draw roads\n",
    "\n",
    "# ✨ Make It Pretty\n",
    "ax.set_facecolor(\"black\")  # Set background to space black\n",
    "ax.axis(\"off\")  # Remove map borders\n",
    "plt.title(f\"Roads of {place}\", color=\"white\", fontsize=18)\n",
    "\n",
    "# 📖 Create a Map Legend\n",
    "legend = [\n",
    "    mpatches.Patch(color=v, label=k.capitalize())\n",
    "    for k, v in road_colors.items()\n",
    "    if k != \"default\"\n",
    "]\n",
    "plt.legend(handles=legend, loc=\"lower right\", facecolor=\"black\", labelcolor=\"white\")\n",
    "\n",
    "# 📝 Add Credits\n",
    "plt.text(\n",
    "    0.5,\n",
    "    0.05,\n",
    "    \"Created: 11/05/2025\\nBy Souleymane MAMAN NOURI SOULEY\",\n",
    "    ha=\"center\",\n",
    "    color=\"white\",\n",
    "    transform=ax.transAxes,\n",
    ")\n",
    "\n",
    "# 💾 Save Your Masterpiece\n",
    "plt.savefig(\"road_map.png\", dpi=360, bbox_inches=\"tight\")\n",
    "print(\"Map saved as road_map.png! 🎉\")\n",
    "plt.show()"
   ]
  }
 ],
 "metadata": {
  "language_info": {
   "name": "python"
  }
 },
 "nbformat": 4,
 "nbformat_minor": 5
}
